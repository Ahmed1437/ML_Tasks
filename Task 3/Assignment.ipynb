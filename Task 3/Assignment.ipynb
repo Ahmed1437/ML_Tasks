{
 "cells": [
  {
   "cell_type": "markdown",
   "id": "FD08-LNtqrB3",
   "metadata": {
    "id": "FD08-LNtqrB3"
   },
   "source": [
    "# Assignment 3\n",
    "\n",
    "this assignment you will practice using Pandas and how to manipulate data to turn it into useful information."
   ]
  },
  {
   "cell_type": "markdown",
   "id": "6487c26d",
   "metadata": {
    "id": "6487c26d"
   },
   "source": [
    "### 1. Import libraries and data frames\n",
    "\n",
    "- here you need to import `pandas` and `numpy` libraries to use them.\n",
    "- then, import needed datasets, `Team1.csv`, `Team2.csv` and `Team_Attributes.csv` and assign them with understandable names."
   ]
  },
  {
   "cell_type": "code",
   "execution_count": 123,
   "id": "39536b52",
   "metadata": {
    "id": "39536b52"
   },
   "outputs": [],
   "source": [
    "import numpy as np\n",
    "import pandas as pd"
   ]
  },
  {
   "cell_type": "code",
   "execution_count": 124,
   "id": "48q8wnmu-N6t",
   "metadata": {
    "id": "48q8wnmu-N6t"
   },
   "outputs": [
    {
     "data": {
      "text/html": [
       "<div>\n",
       "<style scoped>\n",
       "    .dataframe tbody tr th:only-of-type {\n",
       "        vertical-align: middle;\n",
       "    }\n",
       "\n",
       "    .dataframe tbody tr th {\n",
       "        vertical-align: top;\n",
       "    }\n",
       "\n",
       "    .dataframe thead th {\n",
       "        text-align: right;\n",
       "    }\n",
       "</style>\n",
       "<table border=\"1\" class=\"dataframe\">\n",
       "  <thead>\n",
       "    <tr style=\"text-align: right;\">\n",
       "      <th></th>\n",
       "      <th>team_api_id</th>\n",
       "      <th>team_long_name</th>\n",
       "    </tr>\n",
       "  </thead>\n",
       "  <tbody>\n",
       "    <tr>\n",
       "      <th>0</th>\n",
       "      <td>9987</td>\n",
       "      <td>KRC Genk</td>\n",
       "    </tr>\n",
       "    <tr>\n",
       "      <th>1</th>\n",
       "      <td>9993</td>\n",
       "      <td>Beerschot AC</td>\n",
       "    </tr>\n",
       "    <tr>\n",
       "      <th>2</th>\n",
       "      <td>10000</td>\n",
       "      <td>SV Zulte-Waregem</td>\n",
       "    </tr>\n",
       "    <tr>\n",
       "      <th>3</th>\n",
       "      <td>9994</td>\n",
       "      <td>Sporting Lokeren</td>\n",
       "    </tr>\n",
       "    <tr>\n",
       "      <th>4</th>\n",
       "      <td>9984</td>\n",
       "      <td>KSV Cercle Brugge</td>\n",
       "    </tr>\n",
       "    <tr>\n",
       "      <th>...</th>\n",
       "      <td>...</td>\n",
       "      <td>...</td>\n",
       "    </tr>\n",
       "    <tr>\n",
       "      <th>175</th>\n",
       "      <td>9839</td>\n",
       "      <td>VVV-Venlo</td>\n",
       "    </tr>\n",
       "    <tr>\n",
       "      <th>176</th>\n",
       "      <td>10218</td>\n",
       "      <td>Excelsior</td>\n",
       "    </tr>\n",
       "    <tr>\n",
       "      <th>177</th>\n",
       "      <td>6413</td>\n",
       "      <td>PEC Zwolle</td>\n",
       "    </tr>\n",
       "    <tr>\n",
       "      <th>178</th>\n",
       "      <td>7788</td>\n",
       "      <td>SC Cambuur</td>\n",
       "    </tr>\n",
       "    <tr>\n",
       "      <th>179</th>\n",
       "      <td>6433</td>\n",
       "      <td>Go Ahead Eagles</td>\n",
       "    </tr>\n",
       "  </tbody>\n",
       "</table>\n",
       "<p>180 rows × 2 columns</p>\n",
       "</div>"
      ],
      "text/plain": [
       "     team_api_id     team_long_name\n",
       "0           9987           KRC Genk\n",
       "1           9993       Beerschot AC\n",
       "2          10000   SV Zulte-Waregem\n",
       "3           9994   Sporting Lokeren\n",
       "4           9984  KSV Cercle Brugge\n",
       "..           ...                ...\n",
       "175         9839          VVV-Venlo\n",
       "176        10218          Excelsior\n",
       "177         6413         PEC Zwolle\n",
       "178         7788         SC Cambuur\n",
       "179         6433    Go Ahead Eagles\n",
       "\n",
       "[180 rows x 2 columns]"
      ]
     },
     "metadata": {},
     "output_type": "display_data"
    },
    {
     "data": {
      "text/html": [
       "<div>\n",
       "<style scoped>\n",
       "    .dataframe tbody tr th:only-of-type {\n",
       "        vertical-align: middle;\n",
       "    }\n",
       "\n",
       "    .dataframe tbody tr th {\n",
       "        vertical-align: top;\n",
       "    }\n",
       "\n",
       "    .dataframe thead th {\n",
       "        text-align: right;\n",
       "    }\n",
       "</style>\n",
       "<table border=\"1\" class=\"dataframe\">\n",
       "  <thead>\n",
       "    <tr style=\"text-align: right;\">\n",
       "      <th></th>\n",
       "      <th>team_api_id</th>\n",
       "      <th>team_long_name</th>\n",
       "    </tr>\n",
       "  </thead>\n",
       "  <tbody>\n",
       "    <tr>\n",
       "      <th>0</th>\n",
       "      <td>10219</td>\n",
       "      <td>RKC Waalwijk</td>\n",
       "    </tr>\n",
       "    <tr>\n",
       "      <th>1</th>\n",
       "      <td>9839</td>\n",
       "      <td>VVV-Venlo</td>\n",
       "    </tr>\n",
       "    <tr>\n",
       "      <th>2</th>\n",
       "      <td>10218</td>\n",
       "      <td>Excelsior</td>\n",
       "    </tr>\n",
       "    <tr>\n",
       "      <th>3</th>\n",
       "      <td>6413</td>\n",
       "      <td>PEC Zwolle</td>\n",
       "    </tr>\n",
       "    <tr>\n",
       "      <th>4</th>\n",
       "      <td>7788</td>\n",
       "      <td>SC Cambuur</td>\n",
       "    </tr>\n",
       "    <tr>\n",
       "      <th>...</th>\n",
       "      <td>...</td>\n",
       "      <td>...</td>\n",
       "    </tr>\n",
       "    <tr>\n",
       "      <th>120</th>\n",
       "      <td>10190</td>\n",
       "      <td>FC St. Gallen</td>\n",
       "    </tr>\n",
       "    <tr>\n",
       "      <th>121</th>\n",
       "      <td>10191</td>\n",
       "      <td>FC Thun</td>\n",
       "    </tr>\n",
       "    <tr>\n",
       "      <th>122</th>\n",
       "      <td>9777</td>\n",
       "      <td>Servette FC</td>\n",
       "    </tr>\n",
       "    <tr>\n",
       "      <th>123</th>\n",
       "      <td>7730</td>\n",
       "      <td>FC Lausanne-Sports</td>\n",
       "    </tr>\n",
       "    <tr>\n",
       "      <th>124</th>\n",
       "      <td>7896</td>\n",
       "      <td>Lugano</td>\n",
       "    </tr>\n",
       "  </tbody>\n",
       "</table>\n",
       "<p>125 rows × 2 columns</p>\n",
       "</div>"
      ],
      "text/plain": [
       "     team_api_id      team_long_name\n",
       "0          10219        RKC Waalwijk\n",
       "1           9839           VVV-Venlo\n",
       "2          10218           Excelsior\n",
       "3           6413          PEC Zwolle\n",
       "4           7788          SC Cambuur\n",
       "..           ...                 ...\n",
       "120        10190       FC St. Gallen\n",
       "121        10191             FC Thun\n",
       "122         9777         Servette FC\n",
       "123         7730  FC Lausanne-Sports\n",
       "124         7896              Lugano\n",
       "\n",
       "[125 rows x 2 columns]"
      ]
     },
     "metadata": {},
     "output_type": "display_data"
    },
    {
     "data": {
      "text/html": [
       "<div>\n",
       "<style scoped>\n",
       "    .dataframe tbody tr th:only-of-type {\n",
       "        vertical-align: middle;\n",
       "    }\n",
       "\n",
       "    .dataframe tbody tr th {\n",
       "        vertical-align: top;\n",
       "    }\n",
       "\n",
       "    .dataframe thead th {\n",
       "        text-align: right;\n",
       "    }\n",
       "</style>\n",
       "<table border=\"1\" class=\"dataframe\">\n",
       "  <thead>\n",
       "    <tr style=\"text-align: right;\">\n",
       "      <th></th>\n",
       "      <th>team_api_id</th>\n",
       "      <th>buildUpPlaySpeed</th>\n",
       "      <th>buildUpPlaySpeedClass</th>\n",
       "      <th>defencePressure</th>\n",
       "      <th>defencePressureClass</th>\n",
       "    </tr>\n",
       "  </thead>\n",
       "  <tbody>\n",
       "    <tr>\n",
       "      <th>0</th>\n",
       "      <td>9930</td>\n",
       "      <td>60.0</td>\n",
       "      <td>Balanced</td>\n",
       "      <td>50</td>\n",
       "      <td>Medium</td>\n",
       "    </tr>\n",
       "    <tr>\n",
       "      <th>1</th>\n",
       "      <td>9930</td>\n",
       "      <td>52.0</td>\n",
       "      <td>Balanced</td>\n",
       "      <td>47</td>\n",
       "      <td>Medium</td>\n",
       "    </tr>\n",
       "    <tr>\n",
       "      <th>2</th>\n",
       "      <td>9930</td>\n",
       "      <td>47.0</td>\n",
       "      <td>Balanced</td>\n",
       "      <td>47</td>\n",
       "      <td>Medium</td>\n",
       "    </tr>\n",
       "    <tr>\n",
       "      <th>3</th>\n",
       "      <td>8485</td>\n",
       "      <td>70.0</td>\n",
       "      <td>Fast</td>\n",
       "      <td>60</td>\n",
       "      <td>Medium</td>\n",
       "    </tr>\n",
       "    <tr>\n",
       "      <th>4</th>\n",
       "      <td>8485</td>\n",
       "      <td>47.0</td>\n",
       "      <td>Balanced</td>\n",
       "      <td>47</td>\n",
       "      <td>Medium</td>\n",
       "    </tr>\n",
       "    <tr>\n",
       "      <th>...</th>\n",
       "      <td>...</td>\n",
       "      <td>...</td>\n",
       "      <td>...</td>\n",
       "      <td>...</td>\n",
       "      <td>...</td>\n",
       "    </tr>\n",
       "    <tr>\n",
       "      <th>1453</th>\n",
       "      <td>10000</td>\n",
       "      <td>52.0</td>\n",
       "      <td>Balanced</td>\n",
       "      <td>46</td>\n",
       "      <td>Medium</td>\n",
       "    </tr>\n",
       "    <tr>\n",
       "      <th>1454</th>\n",
       "      <td>10000</td>\n",
       "      <td>54.0</td>\n",
       "      <td>Balanced</td>\n",
       "      <td>44</td>\n",
       "      <td>Medium</td>\n",
       "    </tr>\n",
       "    <tr>\n",
       "      <th>1455</th>\n",
       "      <td>10000</td>\n",
       "      <td>54.0</td>\n",
       "      <td>Balanced</td>\n",
       "      <td>44</td>\n",
       "      <td>Medium</td>\n",
       "    </tr>\n",
       "    <tr>\n",
       "      <th>1456</th>\n",
       "      <td>10000</td>\n",
       "      <td>54.0</td>\n",
       "      <td>Balanced</td>\n",
       "      <td>44</td>\n",
       "      <td>Medium</td>\n",
       "    </tr>\n",
       "    <tr>\n",
       "      <th>1457</th>\n",
       "      <td>10000</td>\n",
       "      <td>54.0</td>\n",
       "      <td>Balanced</td>\n",
       "      <td>44</td>\n",
       "      <td>Medium</td>\n",
       "    </tr>\n",
       "  </tbody>\n",
       "</table>\n",
       "<p>1458 rows × 5 columns</p>\n",
       "</div>"
      ],
      "text/plain": [
       "      team_api_id  buildUpPlaySpeed buildUpPlaySpeedClass defencePressure  \\\n",
       "0            9930              60.0              Balanced              50   \n",
       "1            9930              52.0              Balanced              47   \n",
       "2            9930              47.0              Balanced              47   \n",
       "3            8485              70.0                  Fast              60   \n",
       "4            8485              47.0              Balanced              47   \n",
       "...           ...               ...                   ...             ...   \n",
       "1453        10000              52.0              Balanced              46   \n",
       "1454        10000              54.0              Balanced              44   \n",
       "1455        10000              54.0              Balanced              44   \n",
       "1456        10000              54.0              Balanced              44   \n",
       "1457        10000              54.0              Balanced              44   \n",
       "\n",
       "     defencePressureClass  \n",
       "0                  Medium  \n",
       "1                  Medium  \n",
       "2                  Medium  \n",
       "3                  Medium  \n",
       "4                  Medium  \n",
       "...                   ...  \n",
       "1453               Medium  \n",
       "1454               Medium  \n",
       "1455               Medium  \n",
       "1456               Medium  \n",
       "1457               Medium  \n",
       "\n",
       "[1458 rows x 5 columns]"
      ]
     },
     "metadata": {},
     "output_type": "display_data"
    }
   ],
   "source": [
    "teams1 = pd.read_csv(r\"C:\\Users\\Ahmed Ayman\\Jupyter\\Session3\\Assignment3\\Teams1.csv\")\n",
    "teams2 = pd.read_csv(r\"C:\\Users\\Ahmed Ayman\\Jupyter\\Session3\\Assignment3\\Teams2.csv\")\n",
    "teams_attributes = pd.read_csv(r\"C:\\Users\\Ahmed Ayman\\Jupyter\\Session3\\Assignment3\\Team_Attributes.csv\")\n",
    "display(teams1, teams2, teams_attributes)"
   ]
  },
  {
   "cell_type": "markdown",
   "id": "6b0cc40b",
   "metadata": {
    "id": "6b0cc40b"
   },
   "source": [
    "### 2. Concatenate teams into one DataFrame\n",
    "- concate two dataframes `team1` and `team2` vertically.\n",
    "- merge `teams` and `teams attributes` and clean dataframe."
   ]
  },
  {
   "cell_type": "code",
   "execution_count": 125,
   "id": "Gv-YQRIe-Xid",
   "metadata": {
    "id": "Gv-YQRIe-Xid"
   },
   "outputs": [],
   "source": [
    "teams = pd.concat([teams1, teams2], axis = 0)"
   ]
  },
  {
   "cell_type": "code",
   "execution_count": 126,
   "id": "daYf791CE4BD",
   "metadata": {
    "id": "daYf791CE4BD"
   },
   "outputs": [],
   "source": [
    "full_teams = pd.merge(teams, teams_attributes)"
   ]
  },
  {
   "cell_type": "markdown",
   "id": "cb94ab1f",
   "metadata": {
    "id": "cb94ab1f"
   },
   "source": [
    "### 3. Exploratory DataAnalysis & Define Problems ;)\n",
    "- hint: start with `info()` and `isnull()` to find the problems need to be solved.\n",
    "- you have 6 problems in this data, you need to find them out and solve them to make a clean dataset.\n",
    "- in column `defencePressureClass` there are null values, the one who makes the most effiecent way to solve this problem will be rewarded in the next session;)\n",
    "- don't use `dropna()` to solve null values problems. "
   ]
  },
  {
   "cell_type": "code",
   "execution_count": 30,
   "id": "sVtW5x5s-edN",
   "metadata": {
    "id": "sVtW5x5s-edN"
   },
   "outputs": [
    {
     "name": "stdout",
     "output_type": "stream",
     "text": [
      "<class 'pandas.core.frame.DataFrame'>\n",
      "Int64Index: 1476 entries, 0 to 1475\n",
      "Data columns (total 6 columns):\n",
      " #   Column                 Non-Null Count  Dtype  \n",
      "---  ------                 --------------  -----  \n",
      " 0   team_api_id            1476 non-null   int64  \n",
      " 1   team_long_name         1476 non-null   object \n",
      " 2   buildUpPlaySpeed       1465 non-null   float64\n",
      " 3   buildUpPlaySpeedClass  1476 non-null   object \n",
      " 4   defencePressure        1476 non-null   object \n",
      " 5   defencePressureClass   1473 non-null   object \n",
      "dtypes: float64(1), int64(1), object(4)\n",
      "memory usage: 80.7+ KB\n"
     ]
    }
   ],
   "source": [
    "full_teams.info()"
   ]
  },
  {
   "cell_type": "code",
   "execution_count": 132,
   "id": "uiQFLZXq-eTO",
   "metadata": {
    "id": "uiQFLZXq-eTO"
   },
   "outputs": [
    {
     "data": {
      "text/plain": [
       "team_api_id               0\n",
       "team_long_name            0\n",
       "buildUpPlaySpeed         11\n",
       "buildUpPlaySpeedClass     0\n",
       "defencePressure           0\n",
       "defencePressureClass      3\n",
       "dtype: int64"
      ]
     },
     "execution_count": 132,
     "metadata": {},
     "output_type": "execute_result"
    }
   ],
   "source": [
    "full_teams.isnull().sum()"
   ]
  },
  {
   "cell_type": "code",
   "execution_count": 133,
   "id": "jUHUbDCW-eKL",
   "metadata": {
    "id": "jUHUbDCW-eKL"
   },
   "outputs": [],
   "source": [
    "full_teams['buildUpPlaySpeed'].fillna(full_teams['buildUpPlaySpeed'].mean(), inplace = True)"
   ]
  },
  {
   "cell_type": "code",
   "execution_count": 134,
   "id": "Ll2VWedS-eA2",
   "metadata": {
    "id": "Ll2VWedS-eA2"
   },
   "outputs": [],
   "source": [
    "full_teams['defencePressure'] = full_teams['defencePressure'].replace('.', np.nan)\n",
    "\n",
    "full_teams['defencePressure'] = full_teams['defencePressure'].replace('-', np.nan)\n",
    "\n",
    "full_teams['defencePressure'] = full_teams['defencePressure'].astype(float)"
   ]
  },
  {
   "cell_type": "code",
   "execution_count": 135,
   "id": "Jdw_0-6E-dua",
   "metadata": {
    "id": "Jdw_0-6E-dua"
   },
   "outputs": [],
   "source": [
    "full_teams['defencePressure'].fillna(full_teams['defencePressure'].mean(), inplace = True)"
   ]
  },
  {
   "cell_type": "code",
   "execution_count": 143,
   "id": "94992023",
   "metadata": {},
   "outputs": [
    {
     "data": {
      "text/plain": [
       "(array([551, 657, 676], dtype=int64), array([5, 5, 5], dtype=int64))"
      ]
     },
     "execution_count": 143,
     "metadata": {},
     "output_type": "execute_result"
    }
   ],
   "source": [
    "np.where(pd.isnull(full_teams))"
   ]
  },
  {
   "cell_type": "code",
   "execution_count": 156,
   "id": "6c8d2b7d",
   "metadata": {
    "scrolled": false
   },
   "outputs": [
    {
     "data": {
      "text/html": [
       "<div>\n",
       "<style scoped>\n",
       "    .dataframe tbody tr th:only-of-type {\n",
       "        vertical-align: middle;\n",
       "    }\n",
       "\n",
       "    .dataframe tbody tr th {\n",
       "        vertical-align: top;\n",
       "    }\n",
       "\n",
       "    .dataframe thead th {\n",
       "        text-align: right;\n",
       "    }\n",
       "</style>\n",
       "<table border=\"1\" class=\"dataframe\">\n",
       "  <thead>\n",
       "    <tr style=\"text-align: right;\">\n",
       "      <th></th>\n",
       "      <th>team_api_id</th>\n",
       "      <th>team_long_name</th>\n",
       "      <th>buildUpPlaySpeed</th>\n",
       "      <th>buildUpPlaySpeedClass</th>\n",
       "      <th>defencePressure</th>\n",
       "      <th>defencePressureClass</th>\n",
       "    </tr>\n",
       "  </thead>\n",
       "  <tbody>\n",
       "    <tr>\n",
       "      <th>551</th>\n",
       "      <td>8177</td>\n",
       "      <td>Hertha BSC Berlin</td>\n",
       "      <td>47.0</td>\n",
       "      <td>Balanced</td>\n",
       "      <td>50.0</td>\n",
       "      <td>NaN</td>\n",
       "    </tr>\n",
       "    <tr>\n",
       "      <th>657</th>\n",
       "      <td>8234</td>\n",
       "      <td>FC Ingolstadt 04</td>\n",
       "      <td>55.0</td>\n",
       "      <td>Balanced</td>\n",
       "      <td>37.0</td>\n",
       "      <td>NaN</td>\n",
       "    </tr>\n",
       "    <tr>\n",
       "      <th>676</th>\n",
       "      <td>8543</td>\n",
       "      <td>Lazio</td>\n",
       "      <td>60.0</td>\n",
       "      <td>Balanced</td>\n",
       "      <td>55.0</td>\n",
       "      <td>NaN</td>\n",
       "    </tr>\n",
       "  </tbody>\n",
       "</table>\n",
       "</div>"
      ],
      "text/plain": [
       "     team_api_id     team_long_name  buildUpPlaySpeed buildUpPlaySpeedClass  \\\n",
       "551         8177  Hertha BSC Berlin              47.0              Balanced   \n",
       "657         8234   FC Ingolstadt 04              55.0              Balanced   \n",
       "676         8543              Lazio              60.0              Balanced   \n",
       "\n",
       "     defencePressure defencePressureClass  \n",
       "551             50.0                  NaN  \n",
       "657             37.0                  NaN  \n",
       "676             55.0                  NaN  "
      ]
     },
     "execution_count": 156,
     "metadata": {},
     "output_type": "execute_result"
    }
   ],
   "source": [
    "full_teams[full_teams['defencePressureClass'].isnull()]"
   ]
  },
  {
   "cell_type": "code",
   "execution_count": 160,
   "id": "8502bf94",
   "metadata": {},
   "outputs": [],
   "source": [
    "for i in full_teams[full_teams['defencePressureClass'].isnull()].defencePressure:\n",
    "    if i < 34:\n",
    "        full_teams['defencePressureClass'].fillna('Deep', inplace = True)\n",
    "    elif i > 34 and i < 67:\n",
    "        full_teams['defencePressureClass'].fillna('Medium', inplace = True)\n",
    "    else:\n",
    "        full_teams['defencePressureClass'].fillna('High', inplace = True)"
   ]
  },
  {
   "cell_type": "code",
   "execution_count": 161,
   "id": "0a49ae53",
   "metadata": {
    "scrolled": false
   },
   "outputs": [
    {
     "data": {
      "text/plain": [
       "team_api_id              0\n",
       "team_long_name           0\n",
       "buildUpPlaySpeed         0\n",
       "buildUpPlaySpeedClass    0\n",
       "defencePressure          0\n",
       "defencePressureClass     0\n",
       "dtype: int64"
      ]
     },
     "execution_count": 161,
     "metadata": {},
     "output_type": "execute_result"
    }
   ],
   "source": [
    "full_teams.isnull().sum()"
   ]
  },
  {
   "cell_type": "markdown",
   "id": "6de61a1c",
   "metadata": {
    "id": "6de61a1c"
   },
   "source": [
    "### 4. Questions to be answered:\n",
    "- what is the team with highest buildup speed?\n",
    "- change the range of defence pressure and make it from 0 to 10 (if the highest values in this column is 70, change it to 10 and so on).\n",
    "- what is the team with the longest name?\n",
    "- **Bonus**:change the `buildUpSpeed` column by subtracting every values from the mean, and change std to be equal 1."
   ]
  },
  {
   "cell_type": "code",
   "execution_count": 180,
   "id": "YVQrdHHB-gKN",
   "metadata": {
    "id": "YVQrdHHB-gKN"
   },
   "outputs": [
    {
     "data": {
      "text/plain": [
       "'Sint-Truidense VV'"
      ]
     },
     "execution_count": 180,
     "metadata": {},
     "output_type": "execute_result"
    }
   ],
   "source": [
    "full_teams['team_long_name'][full_teams['buildUpPlaySpeed'].max()]"
   ]
  },
  {
   "cell_type": "code",
   "execution_count": 190,
   "id": "4d014695",
   "metadata": {},
   "outputs": [
    {
     "data": {
      "text/plain": [
       "23.0"
      ]
     },
     "execution_count": 190,
     "metadata": {},
     "output_type": "execute_result"
    }
   ],
   "source": [
    "full_teams['defencePressure'].min()"
   ]
  },
  {
   "cell_type": "code",
   "execution_count": 195,
   "id": "gzeOS-wi-gB8",
   "metadata": {
    "id": "gzeOS-wi-gB8"
   },
   "outputs": [],
   "source": [
    "binEdges= [0,10,20,30,40,50,60,70,80,90,100]\n",
    "binNames= [1,2,3,4,5,6,7,8,9,10]"
   ]
  },
  {
   "cell_type": "code",
   "execution_count": 196,
   "id": "4259881e",
   "metadata": {},
   "outputs": [],
   "source": [
    "full_teams['defencePressure'] = pd.cut(full_teams['defencePressure'], binEdges, labels=binNames)"
   ]
  },
  {
   "cell_type": "code",
   "execution_count": 197,
   "id": "5245c9db",
   "metadata": {},
   "outputs": [
    {
     "data": {
      "text/html": [
       "<div>\n",
       "<style scoped>\n",
       "    .dataframe tbody tr th:only-of-type {\n",
       "        vertical-align: middle;\n",
       "    }\n",
       "\n",
       "    .dataframe tbody tr th {\n",
       "        vertical-align: top;\n",
       "    }\n",
       "\n",
       "    .dataframe thead th {\n",
       "        text-align: right;\n",
       "    }\n",
       "</style>\n",
       "<table border=\"1\" class=\"dataframe\">\n",
       "  <thead>\n",
       "    <tr style=\"text-align: right;\">\n",
       "      <th></th>\n",
       "      <th>team_api_id</th>\n",
       "      <th>team_long_name</th>\n",
       "      <th>buildUpPlaySpeed</th>\n",
       "      <th>buildUpPlaySpeedClass</th>\n",
       "      <th>defencePressure</th>\n",
       "      <th>defencePressureClass</th>\n",
       "    </tr>\n",
       "  </thead>\n",
       "  <tbody>\n",
       "    <tr>\n",
       "      <th>0</th>\n",
       "      <td>9987</td>\n",
       "      <td>KRC Genk</td>\n",
       "      <td>45.0</td>\n",
       "      <td>Balanced</td>\n",
       "      <td>7</td>\n",
       "      <td>High</td>\n",
       "    </tr>\n",
       "    <tr>\n",
       "      <th>1</th>\n",
       "      <td>9987</td>\n",
       "      <td>KRC Genk</td>\n",
       "      <td>66.0</td>\n",
       "      <td>Balanced</td>\n",
       "      <td>5</td>\n",
       "      <td>Medium</td>\n",
       "    </tr>\n",
       "    <tr>\n",
       "      <th>2</th>\n",
       "      <td>9987</td>\n",
       "      <td>KRC Genk</td>\n",
       "      <td>53.0</td>\n",
       "      <td>Balanced</td>\n",
       "      <td>5</td>\n",
       "      <td>Medium</td>\n",
       "    </tr>\n",
       "    <tr>\n",
       "      <th>3</th>\n",
       "      <td>9987</td>\n",
       "      <td>KRC Genk</td>\n",
       "      <td>58.0</td>\n",
       "      <td>Balanced</td>\n",
       "      <td>5</td>\n",
       "      <td>Medium</td>\n",
       "    </tr>\n",
       "    <tr>\n",
       "      <th>4</th>\n",
       "      <td>9987</td>\n",
       "      <td>KRC Genk</td>\n",
       "      <td>58.0</td>\n",
       "      <td>Balanced</td>\n",
       "      <td>5</td>\n",
       "      <td>Medium</td>\n",
       "    </tr>\n",
       "  </tbody>\n",
       "</table>\n",
       "</div>"
      ],
      "text/plain": [
       "   team_api_id team_long_name  buildUpPlaySpeed buildUpPlaySpeedClass  \\\n",
       "0         9987       KRC Genk              45.0              Balanced   \n",
       "1         9987       KRC Genk              66.0              Balanced   \n",
       "2         9987       KRC Genk              53.0              Balanced   \n",
       "3         9987       KRC Genk              58.0              Balanced   \n",
       "4         9987       KRC Genk              58.0              Balanced   \n",
       "\n",
       "  defencePressure defencePressureClass  \n",
       "0               7                 High  \n",
       "1               5               Medium  \n",
       "2               5               Medium  \n",
       "3               5               Medium  \n",
       "4               5               Medium  "
      ]
     },
     "execution_count": 197,
     "metadata": {},
     "output_type": "execute_result"
    }
   ],
   "source": [
    "full_teams.head()"
   ]
  },
  {
   "cell_type": "code",
   "execution_count": 188,
   "id": "QrAR3S__-f3R",
   "metadata": {
    "id": "QrAR3S__-f3R"
   },
   "outputs": [
    {
     "data": {
      "text/plain": [
       "'RSC Anderlecht'"
      ]
     },
     "execution_count": 188,
     "metadata": {},
     "output_type": "execute_result"
    }
   ],
   "source": [
    "full_teams['team_long_name'][full_teams['team_long_name'].str.len().max()]"
   ]
  }
 ],
 "metadata": {
  "colab": {
   "collapsed_sections": [
    "6487c26d",
    "6b0cc40b",
    "cb94ab1f",
    "6de61a1c"
   ],
   "name": "Assignment.ipynb",
   "provenance": []
  },
  "kernelspec": {
   "display_name": "Python 3 (ipykernel)",
   "language": "python",
   "name": "python3"
  },
  "language_info": {
   "codemirror_mode": {
    "name": "ipython",
    "version": 3
   },
   "file_extension": ".py",
   "mimetype": "text/x-python",
   "name": "python",
   "nbconvert_exporter": "python",
   "pygments_lexer": "ipython3",
   "version": "3.9.7"
  }
 },
 "nbformat": 4,
 "nbformat_minor": 5
}
