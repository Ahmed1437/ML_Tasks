{
 "cells": [
  {
   "cell_type": "markdown",
   "metadata": {
    "id": "bk7G3lfDgqxW"
   },
   "source": [
    "# Assignment 1 \n",
    "introduction to python"
   ]
  },
  {
   "cell_type": "markdown",
   "metadata": {
    "id": "Kn4sjFFv8myf"
   },
   "source": [
    "##Problem #1. me7taga hacker\n",
    "\n",
    "\n",
    "---\n",
    "\n",
    "https://www.hackerrank.com/challenges/whats-your-name/problem\n",
    "\n",
    "---\n",
    "\n",
    "**Hints: input, formatting**\n"
   ]
  },
  {
   "cell_type": "code",
   "execution_count": 46,
   "metadata": {
    "id": "eHzNSrRP-WVx"
   },
   "outputs": [
    {
     "name": "stdout",
     "output_type": "stream",
     "text": [
      "Enter first name: Ahmed\n",
      "Enter last name: Ayman\n",
      "Hello Ahmed Ayman! You just delved into python.\n"
     ]
    }
   ],
   "source": [
    "# Function of print full name\n",
    "def print_full_name(first, last):\n",
    "    if len(first) <= 10 or len(last) <= 10: \n",
    "        print(f\"Hello {first} {last}! You just delved into python.\")\n",
    "\n",
    "first_name = input('Enter first name: ').strip()\n",
    "last_name = input('Enter last name: ').strip()\n",
    "print_full_name(first_name, last_name)"
   ]
  },
  {
   "cell_type": "markdown",
   "metadata": {
    "id": "MRIBebQwAuyq"
   },
   "source": [
    "## Problem #2. sa3ba geddan\n",
    "\n",
    "---\n",
    "https://www.hackerrank.com/challenges/python-division/problem\n",
    "\n",
    "---\n",
    "**Hints gad3ana menni: division, floor division**"
   ]
  },
  {
   "cell_type": "code",
   "execution_count": 44,
   "metadata": {
    "id": "HD9Cq4S4BXzE"
   },
   "outputs": [
    {
     "name": "stdout",
     "output_type": "stream",
     "text": [
      "First number: 4\n",
      "Second number: 3\n",
      "4 // 3 = 1\n",
      "4 / 3 = 1.3333333333333333\n"
     ]
    }
   ],
   "source": [
    "a = int(input('First number: ').strip())\n",
    "b = int(input('Second number: ').strip())\n",
    "print(f\"{a} // {b} = {a//b}\")\n",
    "print(f\"{a} / {b} = {a/b}\")"
   ]
  },
  {
   "cell_type": "markdown",
   "metadata": {
    "id": "a_nYsjwe9d2n"
   },
   "source": [
    "## Problem #3. bgd, rabena m3ako\n",
    "\n",
    "---\n",
    "\n",
    "https://www.hackerrank.com/challenges/py-if-else/problem\n",
    "\n",
    "---\n",
    "\n",
    "**Hints: if-else conditions, range**"
   ]
  },
  {
   "cell_type": "code",
   "execution_count": 45,
   "metadata": {
    "id": "XuvrvWQl_O8M"
   },
   "outputs": [
    {
     "name": "stdout",
     "output_type": "stream",
     "text": [
      "Enter number: 14\n",
      "Weird\n"
     ]
    }
   ],
   "source": [
    "n = int(input('Enter number: ').strip())\n",
    "if n >= 0 and n <= 100:\n",
    "    if n % 2 == 0:\n",
    "        if n in range(2,6):\n",
    "            print('Not Weird') \n",
    "        elif n in range(6,21):\n",
    "            print('Weird')\n",
    "        elif n > 20:\n",
    "            print('Not Weird')\n",
    "    else :\n",
    "        print('Weird')  "
   ]
  },
  {
   "cell_type": "markdown",
   "metadata": {
    "id": "cvt27pIU88JG"
   },
   "source": [
    "## Problem #4. lw wasalto le hena fa ento gamden gedan\n",
    "\n",
    "---\n",
    "\n",
    "https://www.hackerrank.com/challenges/python-loops/problem\n",
    "\n",
    "---\n",
    "\n",
    "**Hints: for loop**"
   ]
  },
  {
   "cell_type": "code",
   "execution_count": 41,
   "metadata": {
    "id": "1Al8jLyl_hDX"
   },
   "outputs": [
    {
     "name": "stdout",
     "output_type": "stream",
     "text": [
      "Enter number: 5\n",
      "0\n",
      "1\n",
      "4\n",
      "9\n",
      "16\n"
     ]
    }
   ],
   "source": [
    "n = int(input('Enter number: ').strip())\n",
    "if n >= 1 and n <= 20:\n",
    "        for i in range(n):\n",
    "            print(i**2)"
   ]
  },
  {
   "cell_type": "markdown",
   "metadata": {
    "id": "d2iSKSNDANbp"
   },
   "source": [
    "## Problem #5. 5alas fadel takka, 3la 2a5er el sekka.\n",
    "\n",
    "---\n",
    "\n",
    "https://www.hackerrank.com/challenges/python-print/problem\n",
    "\n",
    "---\n",
    "\n",
    "**Hints: function, for loop, formatting**"
   ]
  },
  {
   "cell_type": "code",
   "execution_count": 40,
   "metadata": {
    "id": "24t0ws-IBwVO"
   },
   "outputs": [
    {
     "name": "stdout",
     "output_type": "stream",
     "text": [
      "Enter number: 5\n",
      "12345"
     ]
    }
   ],
   "source": [
    "n = int(input('Enter number: ').strip())\n",
    "if n >= 1 and n <= 150:\n",
    "    for i in range(1,n+1):\n",
    "        print(i,end = \"\")"
   ]
  },
  {
   "cell_type": "markdown",
   "metadata": {
    "id": "PxNdK0HugCdC"
   },
   "source": [
    "# Problem #6 (bonus) elli haye7ellaha Michael 3shan howa hacker w ay 7d hay7ellaha hayeb2a hacker zayo. \n",
    "\n",
    "---\n",
    "https://drive.google.com/file/d/1p-cWSLfRZ6vSIvpYwg5lIuAKerHi283H/view?usp=sharing\n",
    "\n",
    "---\n",
    "\n",
    "**Hints: function, strings**\n"
   ]
  },
  {
   "cell_type": "code",
   "execution_count": 39,
   "metadata": {
    "id": "PgIbsgjYgsHN"
   },
   "outputs": [
    {
     "name": "stdout",
     "output_type": "stream",
     "text": [
      "Enter what you want to encrypt: ahmed\n",
      "d1mh0aca\n"
     ]
    }
   ],
   "source": [
    "s = input('Enter what you want to encrypt: ').strip()\n",
    "s = s.lower()\n",
    "s = s[::-1]\n",
    "for n in s:\n",
    "    if n == 'a':\n",
    "        s = s.replace(n,'0')\n",
    "    elif n == 'e':\n",
    "        s = s.replace(n,'1')\n",
    "    elif n == 'i':\n",
    "        s = s.replace(n,'2')\n",
    "    elif n == 'o':\n",
    "        s = s.replace(n,'2')\n",
    "    elif n == 'u':\n",
    "        s = s.replace(n,'3')\n",
    "s = s + ('aca')\n",
    "print(s)"
   ]
  }
 ],
 "metadata": {
  "colab": {
   "collapsed_sections": [],
   "name": "Assign1 - Questions",
   "provenance": []
  },
  "kernelspec": {
   "display_name": "Python 3 (ipykernel)",
   "language": "python",
   "name": "python3"
  },
  "language_info": {
   "codemirror_mode": {
    "name": "ipython",
    "version": 3
   },
   "file_extension": ".py",
   "mimetype": "text/x-python",
   "name": "python",
   "nbconvert_exporter": "python",
   "pygments_lexer": "ipython3",
   "version": "3.9.7"
  }
 },
 "nbformat": 4,
 "nbformat_minor": 1
}
