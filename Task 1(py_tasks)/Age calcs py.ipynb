{
 "cells": [
  {
   "cell_type": "code",
   "execution_count": 7,
   "id": "fca7655f",
   "metadata": {},
   "outputs": [
    {
     "name": "stdout",
     "output_type": "stream",
     "text": [
      "18\n",
      "In days = 6570\n",
      "In hours = 157680\n",
      "In minutes = 9460800\n",
      "In seconds = 567648000\n"
     ]
    }
   ],
   "source": [
    "age = int(input())\n",
    "days = age * 365\n",
    "hours = days * 24\n",
    "minutes = hours * 60\n",
    "seconds = minutes * 60\n",
    "print(f\"In days = {days}\")\n",
    "print(f\"In hours = {hours}\")\n",
    "print(f\"In minutes = {minutes}\")\n",
    "print(f\"In seconds = {seconds}\")"
   ]
  }
 ],
 "metadata": {
  "kernelspec": {
   "display_name": "Python 3 (ipykernel)",
   "language": "python",
   "name": "python3"
  },
  "language_info": {
   "codemirror_mode": {
    "name": "ipython",
    "version": 3
   },
   "file_extension": ".py",
   "mimetype": "text/x-python",
   "name": "python",
   "nbconvert_exporter": "python",
   "pygments_lexer": "ipython3",
   "version": "3.9.7"
  }
 },
 "nbformat": 4,
 "nbformat_minor": 5
}
